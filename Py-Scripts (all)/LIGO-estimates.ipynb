{
 "cells": [
  {
   "cell_type": "code",
   "execution_count": 1,
   "metadata": {},
   "outputs": [],
   "source": [
    "import numpy as np\n",
    "import matplotlib.pyplot as plt"
   ]
  },
  {
   "cell_type": "code",
   "execution_count": 2,
   "metadata": {},
   "outputs": [
    {
     "data": {
      "text/plain": [
       "[<matplotlib.lines.Line2D at 0x20b285f5400>]"
      ]
     },
     "execution_count": 2,
     "metadata": {},
     "output_type": "execute_result"
    },
    {
     "data": {
      "image/png": "[encoded data removed]",
      "text/plain": [
       "<Figure size 432x288 with 1 Axes>"
      ]
     },
     "metadata": {
      "needs_background": "light"
     },
     "output_type": "display_data"
    }
   ],
   "source": [
    "r = np.linspace(0,150,100)\n",
    "v = 4*np.pi*r**2\n",
    "\n",
    "plt.plot(r, v)"
   ]
  },
  {
   "cell_type": "code",
   "execution_count": 3,
   "metadata": {},
   "outputs": [],
   "source": [
    "top = 4*np.pi*150**3\n",
    "\n",
    "dl = (np.random.uniform(low=0, high=top, size=10000000)/(4*np.pi))**(1/3); "
   ]
  },
  {
   "cell_type": "code",
   "execution_count": 4,
   "metadata": {},
   "outputs": [
    {
     "data": {
      "image/png": "[encoded data removed]",
      "text/plain": [
       "<Figure size 432x288 with 1 Axes>"
      ]
     },
     "metadata": {
      "needs_background": "light"
     },
     "output_type": "display_data"
    }
   ],
   "source": [
    "plt.hist(dl, bins=100); "
   ]
  },
  {
   "cell_type": "code",
   "execution_count": 5,
   "metadata": {},
   "outputs": [
    {
     "data": {
      "text/plain": [
       "112.50647750170663"
      ]
     },
     "execution_count": 5,
     "metadata": {},
     "output_type": "execute_result"
    }
   ],
   "source": [
    "np.mean(dl)"
   ]
  },
  {
   "cell_type": "code",
   "execution_count": 6,
   "metadata": {},
   "outputs": [
    {
     "data": {
      "text/plain": [
       "(119.0798328309341, 36.13861077860048, 21.955613062399635)"
      ]
     },
     "execution_count": 6,
     "metadata": {},
     "output_type": "execute_result"
    }
   ],
   "source": [
    "med = np.median(dl)\n",
    "med, med-np.percentile(dl, 16.9), np.percentile(dl, 100-16.9)-med"
   ]
  },
  {
   "cell_type": "code",
   "execution_count": 7,
   "metadata": {},
   "outputs": [],
   "source": [
    "beta = np.array([-7.12232791e-08,  7.91662441e-05, -6.07906176e-04])\n",
    "x_0 = dl\n",
    "constraint = ( (x_0**2*beta[0]+x_0*beta[1]+beta[2])**2+(0.05*43/x_0)**2 + (0.017*np.ones_like(x_0))**2 )**(1/2)"
   ]
  },
  {
   "cell_type": "code",
   "execution_count": 8,
   "metadata": {},
   "outputs": [
    {
     "data": {
      "text/plain": [
       "(0.025999452801605642, 0.0014038670594342002, 0.005478327561240719)"
      ]
     },
     "execution_count": 8,
     "metadata": {},
     "output_type": "execute_result"
    }
   ],
   "source": [
    "med = np.median(constraint)\n",
    "med, med-np.percentile(constraint, 16.9), np.percentile(constraint, 100-16.9)-med"
   ]
  },
  {
   "cell_type": "code",
   "execution_count": 9,
   "metadata": {},
   "outputs": [],
   "source": [
    "con_5 = np.reshape(constraint, ( int(10000000/5), 5))\n",
    "con_10 = np.reshape(constraint, ( int(10000000/10), 10))\n",
    "con_20 = np.reshape(constraint, ( int(10000000/20), 20))"
   ]
  },
  {
   "cell_type": "code",
   "execution_count": 10,
   "metadata": {},
   "outputs": [
    {
     "data": {
      "text/plain": [
       "array([[0.02538484, 0.02695002, 0.03003069, 0.0263555 , 0.02646947],\n",
       "       [0.02874853, 0.03561674, 0.02637568, 0.02439097, 0.02671016],\n",
       "       [0.02921895, 0.06472767, 0.02626484, 0.03110242, 0.0252938 ],\n",
       "       ...,\n",
       "       [0.03403654, 0.0276896 , 0.02463723, 0.05019773, 0.03898381],\n",
       "       [0.03604574, 0.02520347, 0.03156736, 0.04147785, 0.02499913],\n",
       "       [0.02495461, 0.02589514, 0.0289524 , 0.02692897, 0.02500027]])"
      ]
     },
     "execution_count": 10,
     "metadata": {},
     "output_type": "execute_result"
    }
   ],
   "source": [
    "con_5"
   ]
  },
  {
   "cell_type": "code",
   "execution_count": 11,
   "metadata": {},
   "outputs": [
    {
     "data": {
      "text/plain": [
       "0.012106485337215908"
      ]
     },
     "execution_count": 11,
     "metadata": {},
     "output_type": "execute_result"
    }
   ],
   "source": [
    "np.median(1/np.sqrt(np.sum(1/con_5**2, axis=1)))\n"
   ]
  },
  {
   "cell_type": "code",
   "execution_count": 13,
   "metadata": {},
   "outputs": [
    {
     "data": {
      "text/plain": [
       "(0.008589329650839053, 0.008281517630970934)"
      ]
     },
     "execution_count": 13,
     "metadata": {},
     "output_type": "execute_result"
    }
   ],
   "source": [
    "np.median(1/np.sqrt(np.sum(1/con_10**2, axis=1))), np.percentile(1/np.sqrt(np.sum(1/con_10**2, axis=1)), 16.9)"
   ]
  },
  {
   "cell_type": "code",
   "execution_count": 59,
   "metadata": {},
   "outputs": [
    {
     "data": {
      "text/plain": [
       "(0.005751689967175032, 0.00560429455385608)"
      ]
     },
     "execution_count": 59,
     "metadata": {},
     "output_type": "execute_result"
    }
   ],
   "source": [
    "np.median(1/np.sqrt(np.sum(1/con_20**2, axis=1))), np.percentile(1/np.sqrt(np.sum(1/con_20**2, axis=1)), 16.9)"
   ]
  },
  {
   "cell_type": "code",
   "execution_count": null,
   "metadata": {},
   "outputs": [],
   "source": []
  }
 ],
 "metadata": {
  "kernelspec": {
   "display_name": "Python 3",
   "language": "python",
   "name": "python3"
  },
  "language_info": {
   "codemirror_mode": {
    "name": "ipython",
    "version": 3
   },
   "file_extension": ".py",
   "mimetype": "text/x-python",
   "name": "python",
   "nbconvert_exporter": "python",
   "pygments_lexer": "ipython3",
   "version": "3.8.5"
  }
 },
 "nbformat": 4,
 "nbformat_minor": 4
}
