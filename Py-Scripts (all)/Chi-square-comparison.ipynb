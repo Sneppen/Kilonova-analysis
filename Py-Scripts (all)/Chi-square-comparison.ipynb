{
 "cells": [
  {
   "cell_type": "code",
   "execution_count": 2,
   "metadata": {},
   "outputs": [],
   "source": [
    "import numpy as np\n",
    "import matplotlib.pyplot as plt\n",
    "import os\n",
    "from scipy.optimize import curve_fit\n",
    "import numba \n",
    "\n",
    "import pickle\n",
    "from pcygni_5 import PcygniCalculator\n",
    "import astropy.units as units\n",
    "import astropy.constants as csts\n",
    "from scipy.interpolate import interp1d\n",
    "import lmfit\n",
    "import time\n",
    "\n",
    "#My plot style to standardize my plot esthetics\n",
    "def reset_plt(ticksize,fontsize):\n",
    "    plt.style.use('seaborn-white')\n",
    "    plt.rcParams['xtick.labelsize'] = ticksize\n",
    "    plt.rcParams['ytick.labelsize'] = ticksize\n",
    "    plt.rcParams['font.size'] = fontsize\n",
    "    plt.rcParams['mathtext.fontset'] = 'stix'\n",
    "    plt.rcParams['font.family'] = 'STIXGeneral'\n",
    "    plt.rcParams['legend.facecolor'] = 'white'\n",
    "    plt.rcParams['axes.formatter.limits'] = (-1,3)\n",
    "    plt.rcParams['axes.linewidth'] = 2.25\n",
    "    plt.rcParams['axes.grid'] = True\n",
    "    plt.rcParams['grid.alpha'] = 0.6\n",
    "    #plt.rcParams['pcolor.shading'] = 'nearest'\n",
    "    \n",
    "def put_ticks(this_fig,this_ax):\n",
    "    this_ax.xaxis.set_tick_params(which = 'major', direction = 'in', width = 2.5, length = 12, zorder = 1, top = True)\n",
    "    this_ax.yaxis.set_tick_params(which = 'major', direction = 'in', width = 2.5, length = 12, zorder = 1, right = True)\n",
    "    this_ax.xaxis.set_tick_params(which = 'minor', direction = 'in', width = 1.5, length = 6, zorder = 1, top = True)\n",
    "    this_ax.yaxis.set_tick_params(which = 'minor', direction = 'in', width = 1.5, length = 6, zorder = 1, right = True)\n",
    "    dx = -3/72\n",
    "    dy = -3/72\n",
    "    y_offset = matplotlib.transforms.ScaledTranslation(0, dy, this_fig.dpi_scale_trans)\n",
    "    x_offset = matplotlib.transforms.ScaledTranslation(dx, 0, this_fig.dpi_scale_trans)\n",
    "\n",
    "    for label in this_ax.xaxis.get_majorticklabels():\n",
    "        label.set_transform(label.get_transform() + y_offset)\n",
    "\n",
    "    for label in this_ax.yaxis.get_majorticklabels():\n",
    "        label.set_transform(label.get_transform() + x_offset)\n",
    "        \n",
    "import math\n",
    "pi = np.pi; h = 6.626e-34; c = 3.0e+8; k = 1.38e-23"
   ]
  },
  {
   "cell_type": "code",
   "execution_count": 3,
   "metadata": {},
   "outputs": [],
   "source": [
    "import warnings\n",
    "\n",
    "def fxn():\n",
    "    warnings.warn(\"deprecated\", DeprecationWarning)\n",
    "    warnings.warn(\"IntegrationWarning\", DeprecationWarning)\n",
    "\n",
    "with warnings.catch_warnings():\n",
    "    warnings.simplefilter(\"ignore\")\n",
    "    fxn()\n",
    "    \n",
    "import warnings\n",
    "warnings.filterwarnings(\"ignore\")"
   ]
  },
  {
   "cell_type": "code",
   "execution_count": 4,
   "metadata": {},
   "outputs": [],
   "source": [
    "from astropy.modeling import models\n",
    "\n",
    "def p_cygni_line_corr(wl, v_out, v_phot, tau, lam, vref=0.2, ve=0.2, t0 = 120960): \n",
    "    prof_calc = PcygniCalculator(t=t0 * units.s, vmax=v_out * csts.c,\n",
    "                                 vphot=v_phot * csts.c, tauref=tau, vref=vref *\n",
    "                                 csts.c, ve=ve * csts.c,\n",
    "                                 lam0=lam * units.AA)#, _lam_min=7000, _lam_max=13000)\n",
    "    \n",
    "    cyg = prof_calc.calc_profile_Flam( npoints=25 )  \n",
    "    \n",
    "    inter = interp1d(cyg[0].value*1e-10, cyg[1], bounds_error=False, fill_value=1)    \n",
    "    return inter(wl)\n",
    "\n",
    "@numba.njit(fastmath=True)\n",
    "def temp(wav,T):\n",
    "    a = 2.0*h*c**2\n",
    "    b = h*c/(wav*k*T)\n",
    "    return a/ ( (wav**5)*(np.exp(b) - 1.0) )\n",
    "    \n",
    "@numba.njit(fastmath=True)\n",
    "def gaussian(wav, amp, mu, sigma): \n",
    "    return amp*np.exp(-(wav-mu)**2/(2*sigma**2))\n",
    "    \n",
    "def planck_with_mod(wav, T, N, v_out, v_phot, tau=0.55, occul = 1, ve=0.32,\n",
    "                    amp1 = 2, cen1=15500, sig1=250,amp2 = 2, cen2=15500, sig2=250, \n",
    "                    vref=0., t0=120960, lam=10506.3653): #blackbody\n",
    "    #a = 2.0*h*pi*c**2\n",
    "    #b = h*c/(wav*k*T)\n",
    "    #intensity = a/ ( (wav**5)*(np.exp(b) - 1.0) )\n",
    "    intensity = temp(wav, T)\n",
    "    \n",
    "    pcyg_prof3 = p_cygni_line_corr(wav, v_out, v_phot, 1/13.8*tau   , 10036.65, vref=vref, ve=ve , t0=t0)\n",
    "    pcyg_prof4 = p_cygni_line_corr(wav, v_out, v_phot, 8.1/13.8*tau , 10327.311,vref=vref, ve=ve , t0=t0)\n",
    "    pcyg_prof5 = p_cygni_line_corr(wav, v_out, v_phot, 4.7/13.8*tau , 10914.887,vref=vref, ve=ve , t0=t0)\n",
    "    correction = pcyg_prof3*pcyg_prof4*pcyg_prof5\n",
    "    correction[correction>1] = (correction[correction>1]-1)*occul + 1\n",
    "    \n",
    "    #correction = p_cygni_line_corr(wav, v_out, v_phot, tau, lam, vref=vref, ve=ve, t0=t0)\n",
    "    #correction[correction>1] = (correction[correction>1]-1)*occul + 1\n",
    "    \n",
    "    # Gaussians\n",
    "    gau1 = gaussian(wav, 1e-17*amp1, cen1, sig1)\n",
    "    gau2 = gaussian(wav, 1e-17*amp2, cen2, sig2)\n",
    "    #gau1 = models.Gaussian1D.evaluate(wav, 1e-17*amp1, cen1, sig1)\n",
    "    #gau2 = models.Gaussian1D.evaluate(wav, 1e-17*amp2, cen2, sig2)\n",
    "    \n",
    "    intensity = intensity*correction\n",
    "    return N*intensity+gau1+gau2\n",
    "\n",
    "\n",
    "def residual(pars, wav, data=None, error=None): \n",
    "    v = pars.valuesdict()\n",
    "    T, N, vphot = v[\"T\"], v[\"N\"], v[\"vphot\"]\n",
    "    t0, vmax, tau, vref, ve, occult2 = v[\"t0\"], v[\"vmax\"], v[\"tau\"], v[\"vref\"], v[\"ve\"], v[\"occult\"]\n",
    "    amp1, amp2, cen1, cen2, sig1, sig2= v[\"amp1\"], v[\"amp2\"], v[\"cen1\"], v[\"cen2\"], v[\"sig1\"], v[\"sig2\"]\n",
    "\n",
    "    model = planck_with_mod(wav, T, N, vmax, vphot, tau=tau, occul=occult2, ve = ve, vref = vref, \n",
    "                           amp1 = amp1, cen1=cen1, sig1=sig1, amp2 = amp2, cen2=cen2, sig2=sig2)\n",
    "    \n",
    "    if data is None:\n",
    "        return model\n",
    "    return (model - data)/error\n",
    "\n",
    "import lmfit\n",
    "\n",
    "beta, doppler = np.loadtxt('doppler_wo_prolate_inv.txt')\n",
    "inter = interp1d(beta, doppler)\n",
    "\n",
    "def lum_dist_arr(N, vphot, n_days=1.43, dt=0.): #propagate bb to luminosity distance \n",
    "\n",
    "    delta = inter(vphot) #1-2/3*11/10*vphot\n",
    "    corr = delta**4\n",
    "        \n",
    "    #theta = 2*np.sqrt( N*10**(7) /(1-vphot)*corr )#**5)/np.pi ) #regular\n",
    "    theta = 2*np.sqrt( N*10**(7) / corr )#**5)/np.pi ) #inverse\n",
    "\n",
    "    v = vphot*c \n",
    "    t = (n_days-dt) * (3600*24)\n",
    "    r = v*t\n",
    "    \n",
    "    D = r/theta*2# factor of 2 \n",
    "    D_mpc = D*(3.2408e-23) \n",
    "    return D_mpc\n",
    "\n",
    "n_days = [1.427, 2.417, 3.413, 4.403]"
   ]
  },
  {
   "cell_type": "code",
   "execution_count": 5,
   "metadata": {},
   "outputs": [],
   "source": [
    "@numba.njit(fastmath=True)\n",
    "def lnprob_inner(model, flux, error):\n",
    "    return -0.5 * np.sum(((model - flux) / error)**2 + np.log(2 * np.pi * error**2))\n",
    "\n",
    "def lnprob(pars):\n",
    "    \"\"\"This is the log-likelihood probability for the sampling.\"\"\"    \n",
    "    model = residual(pars, wl*1e-10)\n",
    "    return lnprob_inner(model, flux, error)"
   ]
  },
  {
   "cell_type": "code",
   "execution_count": null,
   "metadata": {},
   "outputs": [],
   "source": []
  },
  {
   "cell_type": "code",
   "execution_count": 60,
   "metadata": {},
   "outputs": [
    {
     "name": "stdout",
     "output_type": "stream",
     "text": [
      " \n",
      "Median SNR 34.24646498428973\n",
      " \n",
      "Median SNR 10.26004578138371\n",
      " \n",
      "Median SNR 17.053891902489287\n",
      " \n",
      "Median SNR 13.13823776619542\n",
      " \n",
      "Median SNR 13.20968629580879\n"
     ]
    },
    {
     "data": {
      "text/plain": [
       "<matplotlib.legend.Legend at 0x2afb58a4910>"
      ]
     },
     "execution_count": 60,
     "metadata": {},
     "output_type": "execute_result"
    },
    {
     "data": {
      "image/png": "[encoded data removed]",
      "text/plain": [
       "<Figure size 720x432 with 1 Axes>"
      ]
     },
     "metadata": {},
     "output_type": "display_data"
    }
   ],
   "source": [
    "reset_plt(18,24)\n",
    "\n",
    "files = [\"./data/OB1/OB1_3_peaks_100walkers.pkl\", \"./data/OB2/OB2_3_peaks_100walkers.pkl\", \n",
    "         \"./data/OB3/OB3_3_peaks_filtered_3.pkl\", \"./Data/OB4/OB4_3_peaks_filtered.pkl\", \n",
    "         \"./Data/OB5/OB5_3_filtered_short.pkl\" ] \n",
    "import os\n",
    "#path = './spectra_full' #\\AT2017gfo\\AT2017gfo\\dereddened+deredshifted_spectra' \n",
    "path = './spectra_filtered' #\\AT2017gfo\\AT2017gfo\\dereddened+deredshifted_spectra' \n",
    "files2 = os.listdir(path)\n",
    "\n",
    "plt.figure(figsize=(10,6))\n",
    "\n",
    "for idx, file in enumerate(files):\n",
    "    x = np.loadtxt(path+'/'+files2[idx]).T\n",
    "    exc_reg_2 = (~((x[:,0] > 13100) & (x[:,0] < 14400))) & (~((x[:,0] > 17550) & (x[:,0] < 19200))) & \\\n",
    "          (~((x[:,0] > 5330) & (x[:,0] < 5740))) & (~((x[:,0] > 9840) & (x[:,0] < 10300))) & \\\n",
    "          (x[:,0] > 4000) & (x[:,0] < 22500)\n",
    "\n",
    "    #exc_reg_2 = (~((x[:,0] > 13400) & (x[:,0] < 14400))) & (~((x[:,0] > 18000) & (x[:,0] < 19500))) & \\\n",
    "    #      (~((x[:,0] > 5330) & (x[:,0] < 5740))) & (~((x[:,0] > 9840) & (x[:,0] < 10300))) & \\\n",
    "    #      (~((x[:,0] > 7520) & (x[:,0] < 7570))) & \\\n",
    "    #      (x[:,0] > 4000) & (x[:,0] < 22500) & (~((x[:,0] > 12600) & (x[:,0] < 12800))) \n",
    "    \n",
    "    wl, flux, error = x[:,0][exc_reg_2], x[:,1][exc_reg_2], x[:,2][exc_reg_2]\n",
    "    \n",
    "    pickle_in = open(file,\"rb\")\n",
    "    emcee_res = pickle.load(pickle_in)\n",
    "    p = emcee_res.params\n",
    "    \n",
    "    #p['tau'].value=0\n",
    "    #p['amp1'].value=0\n",
    "    #p['amp2'].value=0\n",
    "    \n",
    "    flux_theo = residual(p, wl*1e-10)\n",
    "    chi = (flux_theo-flux)/error\n",
    "    \n",
    "    plt.hist(chi, bins=100, alpha=1, histtype='step', label='Epoch '+str(idx+1), density=True); \n",
    "    #print('Median $\\chi^2$', np.median(chi**2))\n",
    "    #print('Mean $\\chi^2$', np.mean(chi**2))\n",
    "    print(' ') \n",
    "    print('Median SNR', np.median(flux/error))\n",
    "    \n",
    "plt.legend(frameon=True)"
   ]
  },
  {
   "cell_type": "code",
   "execution_count": 11,
   "metadata": {},
   "outputs": [
    {
     "data": {
      "text/html": [
       "<table><tr><th> name </th><th> value </th><th> standard error </th><th> relative error </th><th> initial value </th><th> min </th><th> max </th><th> vary </th></tr><tr><td> T </td><td>  3057.21648 </td><td>  10.7511985 </td><td> (0.35%) </td><td> 3082.0126789126225 </td><td>  2500.00000 </td><td>  7500.00000 </td><td> True </td></tr><tr><td> N </td><td>  3.7415e-29 </td><td>  7.8563e-31 </td><td> (2.10%) </td><td> 3.555489174364442e-29 </td><td>        -inf </td><td>         inf </td><td> True </td></tr><tr><td> vphot </td><td>  0.14875107 </td><td>  2.7638e-04 </td><td> (0.19%) </td><td> 0.1463207210618687 </td><td>  0.00000000 </td><td>  1.00000000 </td><td> True </td></tr><tr><td> vmax </td><td>  0.22292413 </td><td>  4.1400e-04 </td><td> (0.19%) </td><td> 0.21928135867220525 </td><td>  0.00000000 </td><td>  1.00000000 </td><td> True </td></tr><tr><td> t0 </td><td>  471600.000 </td><td>  </td><td> (0.19%) </td><td> 471600 </td><td>        -inf </td><td>         inf </td><td> False </td></tr><tr><td> tau </td><td>  0.18190151 </td><td>  0.00335820 </td><td> (1.85%) </td><td> 0.1834959983955168 </td><td>  0.00000000 </td><td>  10.0000000 </td><td> True </td></tr><tr><td> vref </td><td>  0.00000000 </td><td>  </td><td> (1.85%) </td><td> 0.0 </td><td>  0.00000000 </td><td>  1.00000000 </td><td> False </td></tr><tr><td> ve </td><td>  0.29501626 </td><td>  0.01044844 </td><td> (3.54%) </td><td> 0.312461843260899 </td><td>  0.00000000 </td><td>  1.00000000 </td><td> True </td></tr><tr><td> occult </td><td>  19.8850192 </td><td>  0.23832658 </td><td> (1.20%) </td><td> 19.977395979360264 </td><td>  0.10000000 </td><td>  20.0000000 </td><td> True </td></tr><tr><td> amp1 </td><td>  1.11723313 </td><td>  0.05580022 </td><td> (4.99%) </td><td> 1.054442533548637 </td><td>  0.01000000 </td><td>  5.00000000 </td><td> True </td></tr><tr><td> amp2 </td><td>  1.26607952 </td><td>  0.03347724 </td><td> (2.64%) </td><td> 1.2314234459706594 </td><td>  0.01000000 </td><td>  5.00000000 </td><td> True </td></tr><tr><td> cen1 </td><td>  1.5500e-06 </td><td>  </td><td> (2.64%) </td><td> 1.55e-06 </td><td>  1.4000e-06 </td><td>  1.7000e-06 </td><td> False </td></tr><tr><td> cen2 </td><td>  2.0200e-06 </td><td>  </td><td> (2.64%) </td><td> 2.02e-06 </td><td>  1.9000e-06 </td><td>  2.2000e-06 </td><td> False </td></tr><tr><td> sig1 </td><td>  7.2138e-08 </td><td>  1.2523e-09 </td><td> (1.74%) </td><td> 7.269078198179928e-08 </td><td>  1.0000e-08 </td><td>  3.0000e-07 </td><td> True </td></tr><tr><td> sig2 </td><td>  1.5752e-07 </td><td>  2.4183e-09 </td><td> (1.54%) </td><td> 1.6197925302951567e-07 </td><td>  1.0000e-08 </td><td>  3.0000e-07 </td><td> True </td></tr></table>"
      ],
      "text/plain": [
       "Parameters([('T', <Parameter 'T', value=3057.2164816193535 +/- 10.8, bounds=[2500:7500]>), ('N', <Parameter 'N', value=3.7414525773663946e-29 +/- 7.86e-31, bounds=[-inf:inf]>), ('vphot', <Parameter 'vphot', value=0.1487510652639866 +/- 0.000276, bounds=[0:1]>), ('vmax', <Parameter 'vmax', value=0.22292413038598052 +/- 0.000414, bounds=[0:1]>), ('t0', <Parameter 't0', value=471600 (fixed), bounds=[-inf:inf]>), ('tau', <Parameter 'tau', value=0.18190151054151232 +/- 0.00336, bounds=[0:10]>), ('vref', <Parameter 'vref', value=0.0 (fixed), bounds=[0:1]>), ('ve', <Parameter 've', value=0.2950162644425349 +/- 0.0104, bounds=[0:1]>), ('occult', <Parameter 'occult', value=19.885019152196143 +/- 0.238, bounds=[0.1:20]>), ('amp1', <Parameter 'amp1', value=1.117233132710017 +/- 0.0558, bounds=[0.01:5]>), ('amp2', <Parameter 'amp2', value=1.266079518454986 +/- 0.0335, bounds=[0.01:5]>), ('cen1', <Parameter 'cen1', value=1.55e-06 (fixed), bounds=[1.4e-06:1.7e-06]>), ('cen2', <Parameter 'cen2', value=2.02e-06 (fixed), bounds=[1.9e-06:2.2e-06]>), ('sig1', <Parameter 'sig1', value=7.213826958957755e-08 +/- 1.25e-09, bounds=[1e-08:3e-07]>), ('sig2', <Parameter 'sig2', value=1.5751968594102202e-07 +/- 2.42e-09, bounds=[1e-08:3e-07]>)])"
      ]
     },
     "execution_count": 11,
     "metadata": {},
     "output_type": "execute_result"
    }
   ],
   "source": [
    "p"
   ]
  },
  {
   "cell_type": "code",
   "execution_count": null,
   "metadata": {},
   "outputs": [],
   "source": []
  }
 ],
 "metadata": {
  "kernelspec": {
   "display_name": "Python 3",
   "language": "python",
   "name": "python3"
  },
  "language_info": {
   "codemirror_mode": {
    "name": "ipython",
    "version": 3
   },
   "file_extension": ".py",
   "mimetype": "text/x-python",
   "name": "python",
   "nbconvert_exporter": "python",
   "pygments_lexer": "ipython3",
   "version": "3.8.5"
  }
 },
 "nbformat": 4,
 "nbformat_minor": 4
}
