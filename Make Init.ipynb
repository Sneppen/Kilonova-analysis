{
 "cells": [
  {
   "cell_type": "code",
   "execution_count": 19,
   "metadata": {},
   "outputs": [],
   "source": [
    "#!/usr/local/anaconda3/envs/py36 python\n",
    "# -*- coding: utf-8 -*-\n",
    "\n",
    "# Imports\n",
    "import numpy as np\n",
    "from scipy.signal import medfilt\n",
    "import lmfit\n",
    "#from util import *\n",
    "import corner\n",
    "import pickle\n",
    "\n",
    "\n",
    "\n",
    "def main():\n",
    "\n",
    "\n",
    "    OBs = [\"OB1\", \"OB2\", \"OB3\", \"OB4\"]\n",
    "\n",
    "    for ii, OB in enumerate(OBs):\n",
    "        p = lmfit.Parameters()\n",
    "\n",
    "\n",
    "        if OB == \"OB3\":\n",
    "            p.add_many(('T',        3200  , True, 2500 , 75000),\n",
    "                       ('N',        2e-29 , True),\n",
    "                       ('vphot',    0.24  , True, 0    , 1),\n",
    "                       ('vmax',     0.26  , True, 0, 1),\n",
    "                       ('t0',       298800, False, 298800-1, 298800+1),\n",
    "                       ('tau',      1     , True, 0, 10),\n",
    "                       ('vref',     0.2   , False, 0, 1),\n",
    "                       ('ve',       0.2   , True, 0, 1),\n",
    "                       ('occult',   2     , False, 0.1, 10),\n",
    "                       ('t0',       120960, False, 120960-1, 120960+1),\n",
    "                       #('amp1',     0.5,  True, 0.01, 5),\n",
    "                       #('amp2',     0.5,  True, 0.01, 5),\n",
    "                       #('cen1',     15500,  True, 14000, 17000),\n",
    "                       #('cen2',     20300,  True, 19000, 22000),\n",
    "                       #('sig1',     600,  True, 100, 3000),\n",
    "                       #('sig2',     600,  True, 100, 3000)\n",
    "                       )\n",
    "\n",
    "\n",
    "\n",
    "\n",
    "        with open(\"./data/%s_init.json\"%OB, 'w') as outfile:\n",
    "            p.dump(outfile)\n",
    "\n",
    "\n",
    "if __name__ == '__main__':\n",
    "    main()"
   ]
  },
  {
   "cell_type": "code",
   "execution_count": 6,
   "metadata": {},
   "outputs": [
    {
     "data": {
      "text/plain": [
       "3.4583333333333335"
      ]
     },
     "execution_count": 6,
     "metadata": {},
     "output_type": "execute_result"
    }
   ],
   "source": [
    "298800/3600/24"
   ]
  },
  {
   "cell_type": "code",
   "execution_count": null,
   "metadata": {},
   "outputs": [],
   "source": []
  }
 ],
 "metadata": {
  "kernelspec": {
   "display_name": "Python 3",
   "language": "python",
   "name": "python3"
  },
  "language_info": {
   "codemirror_mode": {
    "name": "ipython",
    "version": 3
   },
   "file_extension": ".py",
   "mimetype": "text/x-python",
   "name": "python",
   "nbconvert_exporter": "python",
   "pygments_lexer": "ipython3",
   "version": "3.8.5"
  }
 },
 "nbformat": 4,
 "nbformat_minor": 4
}
